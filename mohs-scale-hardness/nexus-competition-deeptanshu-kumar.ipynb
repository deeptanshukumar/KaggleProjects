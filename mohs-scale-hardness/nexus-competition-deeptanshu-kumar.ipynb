{
 "cells": [
  {
   "cell_type": "markdown",
   "id": "beddbd8a",
   "metadata": {
    "papermill": {
     "duration": 0.003638,
     "end_time": "2024-11-03T04:25:05.792776",
     "exception": false,
     "start_time": "2024-11-03T04:25:05.789138",
     "status": "completed"
    },
    "tags": []
   },
   "source": [
    "Nexus AIML domain competition 2nd round  - deeptanshu kumar"
   ]
  },
  {
   "cell_type": "code",
   "execution_count": 1,
   "id": "89937402",
   "metadata": {
    "_cell_guid": "b1076dfc-b9ad-4769-8c92-a6c4dae69d19",
    "_uuid": "8f2839f25d086af736a60e9eeb907d3b93b6e0e5",
    "execution": {
     "iopub.execute_input": "2024-11-03T04:25:05.801329Z",
     "iopub.status.busy": "2024-11-03T04:25:05.800768Z",
     "iopub.status.idle": "2024-11-03T04:25:06.715512Z",
     "shell.execute_reply": "2024-11-03T04:25:06.714170Z"
    },
    "papermill": {
     "duration": 0.922576,
     "end_time": "2024-11-03T04:25:06.718801",
     "exception": false,
     "start_time": "2024-11-03T04:25:05.796225",
     "status": "completed"
    },
    "tags": []
   },
   "outputs": [
    {
     "name": "stdout",
     "output_type": "stream",
     "text": [
      "/kaggle/input/round-2-nexus-recruitment/sample_submission.csv\n",
      "/kaggle/input/round-2-nexus-recruitment/train.csv\n",
      "/kaggle/input/round-2-nexus-recruitment/test.csv\n"
     ]
    }
   ],
   "source": [
    "import numpy as np # linear algebra\n",
    "import pandas as pd # data processing, CSV file I/O (e.g. pd.read_csv)\n",
    "\n",
    "import os\n",
    "for dirname, _, filenames in os.walk('/kaggle/input'):\n",
    "    for filename in filenames:\n",
    "        print(os.path.join(dirname, filename))"
   ]
  },
  {
   "cell_type": "markdown",
   "id": "e7b0bdd9",
   "metadata": {
    "papermill": {
     "duration": 0.00308,
     "end_time": "2024-11-03T04:25:06.725468",
     "exception": false,
     "start_time": "2024-11-03T04:25:06.722388",
     "status": "completed"
    },
    "tags": []
   },
   "source": [
    "Here we do a walkthough of the directory and find all the files available"
   ]
  },
  {
   "cell_type": "markdown",
   "id": "c9b49dfa",
   "metadata": {
    "papermill": {
     "duration": 0.002961,
     "end_time": "2024-11-03T04:25:06.731651",
     "exception": false,
     "start_time": "2024-11-03T04:25:06.728690",
     "status": "completed"
    },
    "tags": []
   },
   "source": [
    "now we want to import all the csv data files and store them in train_data and test_data"
   ]
  },
  {
   "cell_type": "code",
   "execution_count": 2,
   "id": "6dd348fa",
   "metadata": {
    "execution": {
     "iopub.execute_input": "2024-11-03T04:25:06.739676Z",
     "iopub.status.busy": "2024-11-03T04:25:06.739113Z",
     "iopub.status.idle": "2024-11-03T04:25:06.835674Z",
     "shell.execute_reply": "2024-11-03T04:25:06.834599Z"
    },
    "papermill": {
     "duration": 0.103232,
     "end_time": "2024-11-03T04:25:06.838037",
     "exception": false,
     "start_time": "2024-11-03T04:25:06.734805",
     "status": "completed"
    },
    "tags": []
   },
   "outputs": [
    {
     "data": {
      "text/html": [
       "<div>\n",
       "<style scoped>\n",
       "    .dataframe tbody tr th:only-of-type {\n",
       "        vertical-align: middle;\n",
       "    }\n",
       "\n",
       "    .dataframe tbody tr th {\n",
       "        vertical-align: top;\n",
       "    }\n",
       "\n",
       "    .dataframe thead th {\n",
       "        text-align: right;\n",
       "    }\n",
       "</style>\n",
       "<table border=\"1\" class=\"dataframe\">\n",
       "  <thead>\n",
       "    <tr style=\"text-align: right;\">\n",
       "      <th></th>\n",
       "      <th>id</th>\n",
       "      <th>Hardness</th>\n",
       "      <th>allelectrons_Total</th>\n",
       "      <th>density_Total</th>\n",
       "      <th>allelectrons_Average</th>\n",
       "      <th>val_e_Average</th>\n",
       "      <th>atomicweight_Average</th>\n",
       "      <th>ionenergy_Average</th>\n",
       "      <th>el_neg_chi_Average</th>\n",
       "      <th>R_vdw_element_Average</th>\n",
       "      <th>R_cov_element_Average</th>\n",
       "      <th>zaratio_Average</th>\n",
       "      <th>density_Average</th>\n",
       "    </tr>\n",
       "  </thead>\n",
       "  <tbody>\n",
       "    <tr>\n",
       "      <th>0</th>\n",
       "      <td>0</td>\n",
       "      <td>2.5</td>\n",
       "      <td>76.0</td>\n",
       "      <td>13.053996</td>\n",
       "      <td>44.5</td>\n",
       "      <td>5.300000</td>\n",
       "      <td>102.827560</td>\n",
       "      <td>9.273855</td>\n",
       "      <td>2.274000</td>\n",
       "      <td>1.907200</td>\n",
       "      <td>1.180000</td>\n",
       "      <td>0.457149</td>\n",
       "      <td>5.54333</td>\n",
       "    </tr>\n",
       "    <tr>\n",
       "      <th>1</th>\n",
       "      <td>1</td>\n",
       "      <td>5.5</td>\n",
       "      <td>132.0</td>\n",
       "      <td>8.329324</td>\n",
       "      <td>11.6</td>\n",
       "      <td>4.333333</td>\n",
       "      <td>22.436766</td>\n",
       "      <td>10.599883</td>\n",
       "      <td>2.575833</td>\n",
       "      <td>1.796667</td>\n",
       "      <td>0.973333</td>\n",
       "      <td>0.481969</td>\n",
       "      <td>0.45758</td>\n",
       "    </tr>\n",
       "    <tr>\n",
       "      <th>2</th>\n",
       "      <td>2</td>\n",
       "      <td>6.8</td>\n",
       "      <td>92.0</td>\n",
       "      <td>6.283996</td>\n",
       "      <td>9.2</td>\n",
       "      <td>4.800000</td>\n",
       "      <td>18.608172</td>\n",
       "      <td>11.144460</td>\n",
       "      <td>2.698000</td>\n",
       "      <td>1.732000</td>\n",
       "      <td>0.920000</td>\n",
       "      <td>0.496167</td>\n",
       "      <td>1.03881</td>\n",
       "    </tr>\n",
       "    <tr>\n",
       "      <th>3</th>\n",
       "      <td>3</td>\n",
       "      <td>2.3</td>\n",
       "      <td>45.0</td>\n",
       "      <td>7.441332</td>\n",
       "      <td>13.0</td>\n",
       "      <td>5.500000</td>\n",
       "      <td>29.525338</td>\n",
       "      <td>10.347000</td>\n",
       "      <td>2.904000</td>\n",
       "      <td>1.720000</td>\n",
       "      <td>0.945000</td>\n",
       "      <td>0.481478</td>\n",
       "      <td>1.86481</td>\n",
       "    </tr>\n",
       "    <tr>\n",
       "      <th>4</th>\n",
       "      <td>4</td>\n",
       "      <td>6.5</td>\n",
       "      <td>126.0</td>\n",
       "      <td>13.747992</td>\n",
       "      <td>13.9</td>\n",
       "      <td>4.650000</td>\n",
       "      <td>29.680679</td>\n",
       "      <td>11.759620</td>\n",
       "      <td>2.649500</td>\n",
       "      <td>1.720000</td>\n",
       "      <td>0.958000</td>\n",
       "      <td>0.486265</td>\n",
       "      <td>2.48360</td>\n",
       "    </tr>\n",
       "  </tbody>\n",
       "</table>\n",
       "</div>"
      ],
      "text/plain": [
       "   id  Hardness  allelectrons_Total  density_Total  allelectrons_Average  \\\n",
       "0   0       2.5                76.0      13.053996                  44.5   \n",
       "1   1       5.5               132.0       8.329324                  11.6   \n",
       "2   2       6.8                92.0       6.283996                   9.2   \n",
       "3   3       2.3                45.0       7.441332                  13.0   \n",
       "4   4       6.5               126.0      13.747992                  13.9   \n",
       "\n",
       "   val_e_Average  atomicweight_Average  ionenergy_Average  el_neg_chi_Average  \\\n",
       "0       5.300000            102.827560           9.273855            2.274000   \n",
       "1       4.333333             22.436766          10.599883            2.575833   \n",
       "2       4.800000             18.608172          11.144460            2.698000   \n",
       "3       5.500000             29.525338          10.347000            2.904000   \n",
       "4       4.650000             29.680679          11.759620            2.649500   \n",
       "\n",
       "   R_vdw_element_Average  R_cov_element_Average  zaratio_Average  \\\n",
       "0               1.907200               1.180000         0.457149   \n",
       "1               1.796667               0.973333         0.481969   \n",
       "2               1.732000               0.920000         0.496167   \n",
       "3               1.720000               0.945000         0.481478   \n",
       "4               1.720000               0.958000         0.486265   \n",
       "\n",
       "   density_Average  \n",
       "0          5.54333  \n",
       "1          0.45758  \n",
       "2          1.03881  \n",
       "3          1.86481  \n",
       "4          2.48360  "
      ]
     },
     "execution_count": 2,
     "metadata": {},
     "output_type": "execute_result"
    }
   ],
   "source": [
    "train_data = pd.read_csv(\"/kaggle/input/round-2-nexus-recruitment/train.csv\")\n",
    "train_data.head()"
   ]
  },
  {
   "cell_type": "code",
   "execution_count": 3,
   "id": "ee8bf457",
   "metadata": {
    "execution": {
     "iopub.execute_input": "2024-11-03T04:25:06.846988Z",
     "iopub.status.busy": "2024-11-03T04:25:06.846592Z",
     "iopub.status.idle": "2024-11-03T04:25:06.900810Z",
     "shell.execute_reply": "2024-11-03T04:25:06.899739Z"
    },
    "papermill": {
     "duration": 0.06145,
     "end_time": "2024-11-03T04:25:06.903102",
     "exception": false,
     "start_time": "2024-11-03T04:25:06.841652",
     "status": "completed"
    },
    "tags": []
   },
   "outputs": [
    {
     "data": {
      "text/html": [
       "<div>\n",
       "<style scoped>\n",
       "    .dataframe tbody tr th:only-of-type {\n",
       "        vertical-align: middle;\n",
       "    }\n",
       "\n",
       "    .dataframe tbody tr th {\n",
       "        vertical-align: top;\n",
       "    }\n",
       "\n",
       "    .dataframe thead th {\n",
       "        text-align: right;\n",
       "    }\n",
       "</style>\n",
       "<table border=\"1\" class=\"dataframe\">\n",
       "  <thead>\n",
       "    <tr style=\"text-align: right;\">\n",
       "      <th></th>\n",
       "      <th>id</th>\n",
       "      <th>allelectrons_Total</th>\n",
       "      <th>density_Total</th>\n",
       "      <th>allelectrons_Average</th>\n",
       "      <th>val_e_Average</th>\n",
       "      <th>atomicweight_Average</th>\n",
       "      <th>ionenergy_Average</th>\n",
       "      <th>el_neg_chi_Average</th>\n",
       "      <th>R_vdw_element_Average</th>\n",
       "      <th>R_cov_element_Average</th>\n",
       "      <th>zaratio_Average</th>\n",
       "      <th>density_Average</th>\n",
       "    </tr>\n",
       "  </thead>\n",
       "  <tbody>\n",
       "    <tr>\n",
       "      <th>0</th>\n",
       "      <td>15000</td>\n",
       "      <td>86.0</td>\n",
       "      <td>11.354575</td>\n",
       "      <td>14.333333</td>\n",
       "      <td>4.0</td>\n",
       "      <td>30.550687</td>\n",
       "      <td>11.94820</td>\n",
       "      <td>2.953333</td>\n",
       "      <td>1.725</td>\n",
       "      <td>0.966667</td>\n",
       "      <td>0.467532</td>\n",
       "      <td>1.35155</td>\n",
       "    </tr>\n",
       "    <tr>\n",
       "      <th>1</th>\n",
       "      <td>15001</td>\n",
       "      <td>100.0</td>\n",
       "      <td>5.203996</td>\n",
       "      <td>10.000000</td>\n",
       "      <td>4.8</td>\n",
       "      <td>20.298893</td>\n",
       "      <td>12.04083</td>\n",
       "      <td>2.790000</td>\n",
       "      <td>1.631</td>\n",
       "      <td>0.910000</td>\n",
       "      <td>0.493032</td>\n",
       "      <td>0.75893</td>\n",
       "    </tr>\n",
       "    <tr>\n",
       "      <th>2</th>\n",
       "      <td>15002</td>\n",
       "      <td>79.0</td>\n",
       "      <td>13.551332</td>\n",
       "      <td>19.000000</td>\n",
       "      <td>4.0</td>\n",
       "      <td>39.568056</td>\n",
       "      <td>9.67690</td>\n",
       "      <td>2.140000</td>\n",
       "      <td>1.880</td>\n",
       "      <td>1.130000</td>\n",
       "      <td>0.477665</td>\n",
       "      <td>2.31200</td>\n",
       "    </tr>\n",
       "    <tr>\n",
       "      <th>3</th>\n",
       "      <td>15003</td>\n",
       "      <td>92.0</td>\n",
       "      <td>6.697992</td>\n",
       "      <td>9.200000</td>\n",
       "      <td>4.8</td>\n",
       "      <td>18.439538</td>\n",
       "      <td>11.79886</td>\n",
       "      <td>2.805000</td>\n",
       "      <td>1.656</td>\n",
       "      <td>0.848000</td>\n",
       "      <td>0.499514</td>\n",
       "      <td>0.77680</td>\n",
       "    </tr>\n",
       "    <tr>\n",
       "      <th>4</th>\n",
       "      <td>15004</td>\n",
       "      <td>144.0</td>\n",
       "      <td>13.512992</td>\n",
       "      <td>14.400000</td>\n",
       "      <td>4.4</td>\n",
       "      <td>31.937418</td>\n",
       "      <td>11.33182</td>\n",
       "      <td>2.824000</td>\n",
       "      <td>1.752</td>\n",
       "      <td>0.840000</td>\n",
       "      <td>0.499404</td>\n",
       "      <td>1.25093</td>\n",
       "    </tr>\n",
       "  </tbody>\n",
       "</table>\n",
       "</div>"
      ],
      "text/plain": [
       "      id  allelectrons_Total  density_Total  allelectrons_Average  \\\n",
       "0  15000                86.0      11.354575             14.333333   \n",
       "1  15001               100.0       5.203996             10.000000   \n",
       "2  15002                79.0      13.551332             19.000000   \n",
       "3  15003                92.0       6.697992              9.200000   \n",
       "4  15004               144.0      13.512992             14.400000   \n",
       "\n",
       "   val_e_Average  atomicweight_Average  ionenergy_Average  el_neg_chi_Average  \\\n",
       "0            4.0             30.550687           11.94820            2.953333   \n",
       "1            4.8             20.298893           12.04083            2.790000   \n",
       "2            4.0             39.568056            9.67690            2.140000   \n",
       "3            4.8             18.439538           11.79886            2.805000   \n",
       "4            4.4             31.937418           11.33182            2.824000   \n",
       "\n",
       "   R_vdw_element_Average  R_cov_element_Average  zaratio_Average  \\\n",
       "0                  1.725               0.966667         0.467532   \n",
       "1                  1.631               0.910000         0.493032   \n",
       "2                  1.880               1.130000         0.477665   \n",
       "3                  1.656               0.848000         0.499514   \n",
       "4                  1.752               0.840000         0.499404   \n",
       "\n",
       "   density_Average  \n",
       "0          1.35155  \n",
       "1          0.75893  \n",
       "2          2.31200  \n",
       "3          0.77680  \n",
       "4          1.25093  "
      ]
     },
     "execution_count": 3,
     "metadata": {},
     "output_type": "execute_result"
    }
   ],
   "source": [
    "test_data = pd.read_csv(\"/kaggle/input/round-2-nexus-recruitment/test.csv\")\n",
    "test_data.head()"
   ]
  },
  {
   "cell_type": "markdown",
   "id": "d027ad5f",
   "metadata": {
    "papermill": {
     "duration": 0.003468,
     "end_time": "2024-11-03T04:25:06.910444",
     "exception": false,
     "start_time": "2024-11-03T04:25:06.906976",
     "status": "completed"
    },
    "tags": []
   },
   "source": [
    "so we have imported the files and also printed the 5 lines of their values using .head() attribute\n",
    "\n",
    "we got the train.csv stored in train_data using pandas which is a python module used for data processing and csv file input output\n",
    "\n",
    "train_data.head() shows us the data (first 5 entries)\n",
    "\n",
    "train data will be used to train the model!"
   ]
  },
  {
   "cell_type": "markdown",
   "id": "500bcc54",
   "metadata": {
    "papermill": {
     "duration": 0.003378,
     "end_time": "2024-11-03T04:25:06.917438",
     "exception": false,
     "start_time": "2024-11-03T04:25:06.914060",
     "status": "completed"
    },
    "tags": []
   },
   "source": [
    "Now to find out the parameter that affect the moh's scale of hardness (the parameters we need to train the model on) from the data given above:\n",
    "\n",
    "    zaratio_Average (average ratio of atomic number to atomic radius)\n",
    "    ionenergy_Average (average ionization energy)\n",
    "    density_Average (average density)\n",
    "    el_neg_chi_Average (average electronegativity)\n",
    "    R_cov_element_Average (average covalent radius)\n",
    "    atomicweight_Average (average atomic weight)\n",
    "    R_vdw_element_Average (average van der Waals radius)\n",
    "    density_Total (total density)\n",
    "    val_e_Average (average valence electrons)\n",
    "    allelectrons_Total (total electron count)\n",
    "    allelectrons_Average (average electron count)\n",
    "\n",
    "after doing a google search on the factors that affect moh's scale of hardness, i found out that the top 5 parameters are:\n",
    "    \n",
    "    zaratio_Average (average ratio of atomic number to atomic radius)\n",
    "    ionenergy_Average (average ionization energy)\n",
    "    density_Average (average density)\n",
    "    el_neg_chi_Average (average electronegativity)\n",
    "    R_cov_element_Average (average covalent radius)\n",
    "\n",
    "so now we will be using these 5 parameters to train the model. features essentially..\n",
    "if my top 5 dont work well, i will resort to using all parameters\n",
    "\n",
    "in the competition we were asked to use regression so i will be importing the RandomForestRegressor module"
   ]
  },
  {
   "cell_type": "code",
   "execution_count": 4,
   "id": "f0418750",
   "metadata": {
    "execution": {
     "iopub.execute_input": "2024-11-03T04:25:06.926895Z",
     "iopub.status.busy": "2024-11-03T04:25:06.926495Z",
     "iopub.status.idle": "2024-11-03T04:26:07.729705Z",
     "shell.execute_reply": "2024-11-03T04:26:07.728563Z"
    },
    "papermill": {
     "duration": 60.814099,
     "end_time": "2024-11-03T04:26:07.735476",
     "exception": false,
     "start_time": "2024-11-03T04:25:06.921377",
     "status": "completed"
    },
    "tags": []
   },
   "outputs": [
    {
     "name": "stdout",
     "output_type": "stream",
     "text": [
      "The submission has been saved to submission.csv\n"
     ]
    }
   ],
   "source": [
    "from sklearn.ensemble import RandomForestRegressor\n",
    "import pandas as pd\n",
    "\n",
    "\n",
    "# Define the target variable\n",
    "y = train_data[\"Hardness\"]\n",
    "\n",
    "# Use only the top 5 features that most affect hardness\n",
    "features = [\"zaratio_Average\", \"ionenergy_Average\", \"density_Average\", \"el_neg_chi_Average\", \"R_cov_element_Average\", \"atomicweight_Average\",\"R_vdw_element_Average\",\"density_Total\",\"val_e_Average\",\"allelectrons_Total\",\"allelectrons_Average\"]\n",
    "X = train_data[features]\n",
    "X_test = test_data[features]\n",
    "\n",
    "\n",
    "\n",
    "# Define the RandomForest model with default parameters\n",
    "rf_model = RandomForestRegressor(n_estimators=500, max_depth=30, random_state=1)\n",
    "rf_model.fit(X,y)\n",
    "\n",
    "# Predict the hardness values on the test set\n",
    "test_preds = rf_model.predict(X_test)\n",
    "\n",
    "# Save predictions to a CSV file\n",
    "output = pd.DataFrame({'id': test_data.id, 'Hardness': test_preds})\n",
    "output.to_csv('submission.csv', index=False)\n",
    "print(\"The submission has been saved to submission.csv\")\n"
   ]
  },
  {
   "cell_type": "markdown",
   "id": "f6c4f4f2",
   "metadata": {
    "papermill": {
     "duration": 0.003546,
     "end_time": "2024-11-03T04:26:07.742784",
     "exception": false,
     "start_time": "2024-11-03T04:26:07.739238",
     "status": "completed"
    },
    "tags": []
   },
   "source": [
    "the submission has been saved in the submission.csv file"
   ]
  },
  {
   "cell_type": "markdown",
   "id": "dce91d23",
   "metadata": {
    "papermill": {
     "duration": 0.003494,
     "end_time": "2024-11-03T04:26:07.750067",
     "exception": false,
     "start_time": "2024-11-03T04:26:07.746573",
     "status": "completed"
    },
    "tags": []
   },
   "source": [
    "I did my learning for this competition from the titanic competition by kaggle: [https://www.kaggle.com/code/alexisbcook/titanic-tutorial](http://)\n",
    "\n",
    "For learning about the factors that affect the moh's scale of hardness I used Google Search."
   ]
  }
 ],
 "metadata": {
  "kaggle": {
   "accelerator": "none",
   "dataSources": [
    {
     "databundleVersionId": 8347608,
     "sourceId": 76849,
     "sourceType": "competition"
    }
   ],
   "dockerImageVersionId": 30786,
   "isGpuEnabled": false,
   "isInternetEnabled": true,
   "language": "python",
   "sourceType": "notebook"
  },
  "kernelspec": {
   "display_name": "Python 3",
   "language": "python",
   "name": "python3"
  },
  "language_info": {
   "codemirror_mode": {
    "name": "ipython",
    "version": 3
   },
   "file_extension": ".py",
   "mimetype": "text/x-python",
   "name": "python",
   "nbconvert_exporter": "python",
   "pygments_lexer": "ipython3",
   "version": "3.10.14"
  },
  "papermill": {
   "default_parameters": {},
   "duration": 65.396633,
   "end_time": "2024-11-03T04:26:08.375505",
   "environment_variables": {},
   "exception": null,
   "input_path": "__notebook__.ipynb",
   "output_path": "__notebook__.ipynb",
   "parameters": {},
   "start_time": "2024-11-03T04:25:02.978872",
   "version": "2.6.0"
  }
 },
 "nbformat": 4,
 "nbformat_minor": 5
}
